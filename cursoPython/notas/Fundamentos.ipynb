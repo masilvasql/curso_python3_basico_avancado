{
 "cells": [
  {
   "cell_type": "markdown",
   "metadata": {},
   "source": [
    "# Fundamentos"
   ]
  },
  {
   "cell_type": "code",
   "execution_count": null,
   "metadata": {},
   "outputs": [],
   "source": [
    "print('primeiro programa')\n",
    "1 \\\n",
    " + 2\n",
    "help(print)"
   ]
  },
  {
   "cell_type": "code",
   "execution_count": null,
   "metadata": {},
   "outputs": [],
   "source": [
    "1 + 2 + 3 \n",
    "4 + 5 + 6"
   ]
  },
  {
   "cell_type": "code",
   "execution_count": null,
   "metadata": {},
   "outputs": [],
   "source": [
    "print(1 + 2 + 3) \n",
    "print(4 + 5 + 6)"
   ]
  },
  {
   "cell_type": "markdown",
   "metadata": {},
   "source": [
    "# Tipos Básicos"
   ]
  },
  {
   "cell_type": "code",
   "execution_count": null,
   "metadata": {},
   "outputs": [],
   "source": [
    "print(True)\n",
    "print(False)\n",
    "print(1.2 + 1)\n",
    "print('Aqui eu falo na minha língua')\n",
    "print(\"Tb funciona\")\n",
    "print('Você é ' + 3 * ' muito'  +' legal')\n",
    "#print(3 + \"a\") ambiguidade\n",
    "print([1, 2, 3])\n",
    "print({'Nome':'Pedro', 'idade':22})\n",
    "print(None)"
   ]
  },
  {
   "cell_type": "markdown",
   "metadata": {},
   "source": [
    "# Variáveis"
   ]
  },
  {
   "cell_type": "code",
   "execution_count": null,
   "metadata": {},
   "outputs": [],
   "source": [
    "a = 10 \n",
    "b = 5.2\n",
    "print(a + b)\n",
    "a = \"agora sou uma string\"\n",
    "a\n",
    "b\n",
    "\n",
    "#print(a)"
   ]
  },
  {
   "cell_type": "markdown",
   "metadata": {},
   "source": [
    "# Comentários"
   ]
  },
  {
   "cell_type": "code",
   "execution_count": null,
   "metadata": {},
   "outputs": [],
   "source": [
    "# Minhas variáveis\n",
    "salario = 3450.45\n",
    "despesas = 2456.2\n",
    "'''\n",
    "A ideia é calcular\n",
    "quanto vai sobrar\n",
    "no final do mês\n",
    "'''\n",
    "print(salario - despesas)\n",
    "\n",
    "# print('Fim')\n",
    "print(\"Fim de verdade\") # comentário aqui também funciona"
   ]
  },
  {
   "cell_type": "markdown",
   "metadata": {},
   "source": [
    "# Operadores Aritméticos"
   ]
  },
  {
   "cell_type": "code",
   "execution_count": null,
   "metadata": {},
   "outputs": [],
   "source": [
    "print(2 + 3)\n",
    "print(4 - 7)\n",
    "print(2 * 5.3)\n",
    "print(9.4 / 3)\n",
    "print(9.4 // 3) #resultado vai dar inteiro\n",
    "print(2 ** 8) #expoente\n",
    "print(10 % 3) #módulo\n",
    "\n",
    "a = 12\n",
    "b = a\n",
    "print(a + b)\n",
    "\n"
   ]
  },
  {
   "cell_type": "markdown",
   "metadata": {},
   "source": [
    "# Desafio Operadores Aritméticos"
   ]
  },
  {
   "cell_type": "code",
   "execution_count": null,
   "metadata": {},
   "outputs": [],
   "source": [
    "salario = 3450.45\n",
    "despesas = 2456.2\n",
    "#qual o percentual de despesa em relação ao salário\n",
    "percentual_comprometido = despesas / salario * 100 \n",
    "print(percentual_comprometido)"
   ]
  },
  {
   "cell_type": "markdown",
   "metadata": {},
   "source": [
    "# Operadores Relacionais"
   ]
  },
  {
   "cell_type": "code",
   "execution_count": null,
   "metadata": {},
   "outputs": [],
   "source": [
    "3 > 4 \n",
    "4 >= 3\n",
    "1 < 2\n",
    "3 <= 1\n",
    "3 != 2\n",
    "3 == 3\n",
    "2 == '3'\n",
    "2 == '2'"
   ]
  },
  {
   "cell_type": "markdown",
   "metadata": {},
   "source": [
    "# Operadores de Atribuição"
   ]
  },
  {
   "cell_type": "code",
   "execution_count": null,
   "metadata": {},
   "outputs": [],
   "source": [
    "a = 3 \n",
    "a = a + 7 \n",
    "print(a)\n",
    "\n",
    "a += 5\n",
    "print(a)\n",
    "\n",
    "a -= 3\n",
    "print(a)\n",
    "\n",
    "a *= 2\n",
    "print(a)\n",
    "\n",
    "a /= 4\n",
    "print(a)\n",
    "\n",
    "a %= 4\n",
    "print(a)\n",
    "\n",
    "a **= 8\n",
    "print(a)\n",
    "\n",
    "a //= 127 #divisão com resultado inteiro\n",
    "print(a)"
   ]
  },
  {
   "cell_type": "markdown",
   "metadata": {},
   "source": [
    "# Operadores Lógicos"
   ]
  },
  {
   "cell_type": "code",
   "execution_count": null,
   "metadata": {},
   "outputs": [],
   "source": [
    "True or False\n",
    "7 != 3 and 2 > 3\n",
    "# tabela verdade do AND\n",
    "True  and True  # True\n",
    "True  and False # False\n",
    "False and True  # False\n",
    "False and False # False\n",
    "\n",
    "# tabela verdade do OR\n",
    "True  or True  # True\n",
    "True  or False # True\n",
    "False or True  # True\n",
    "False or False # False\n",
    "\n",
    "# tabela verdade do XOR\n",
    "True  != True  # False\n",
    "True  != False # True\n",
    "False != True  # True\n",
    "False != False # False\n",
    "\n",
    "#operador de Negação (unário)\n",
    "not True  # False\n",
    "not False # True\n",
    "\n",
    "not 0 # True\n",
    "not 1 # False #ou qualquer outro número = True\n",
    "\n",
    "#cuidado!\n",
    "True & True # True\n",
    "False | True # True\n",
    "True ^ False # True\n",
    "\n",
    "# AND BIT A BIT  \n",
    "# 3 = 11  \n",
    "# 2 = 10\n",
    "# _ = 10\n",
    "\n",
    "# OR BIT A BIT\n",
    "3 & 2 \n",
    "# 3 = 11  \n",
    "# 2 = 10\n",
    "# _ = 11\n",
    "3 | 2 \n",
    "\n",
    "# XOR BIT A BIT\n",
    "# 3 = 11  \n",
    "# 2 = 10\n",
    "# _ = 01\n",
    "3 ^ 2\n",
    "\n",
    "#Um pouco de realidade\n",
    "saldo = 1000\n",
    "salario = 4000\n",
    "despesas = 2967\n",
    "\n",
    "saldo_positivo = saldo > 0\n",
    "despesas_controladas = salario - despesas >= 0.2 * salario\n",
    "\n",
    "meta = saldo_positivo and despesas_controladas \n",
    "print(meta)\n"
   ]
  },
  {
   "cell_type": "markdown",
   "metadata": {},
   "source": [
    "# Desafio Operadores Lógicos"
   ]
  },
  {
   "cell_type": "code",
   "execution_count": null,
   "metadata": {},
   "outputs": [],
   "source": [
    "''' \n",
    "    Uma pessoa vai ter dois trabalhos para serem executados\n",
    "    Uma será na Terça, outro será na Quinta.\n",
    "    Se os dois trabalhos derem certo, vai comprar uma tv de 50 \n",
    "    Se apenas um dos dois der certo, a pessoa vai comprar uma tv de 32\n",
    "    Em ambos os casos, se comprar a TV, a família vai tomar sorvete e vai ter menos saúde\n",
    "    se nem um dos trabalhos derem certo, vai ter mais saúde\n",
    "'''\n",
    "\n",
    "\n",
    "trabalho_terca = True\n",
    "trabalho_quinta = True\n",
    "\n",
    "\n",
    "comprar_tv_50 = trabalho_terca and trabalho_quinta\n",
    "comprar_tv_32 = trabalho_terca != trabalho_quinta\n",
    "tomar_sorvete = trabalho_terca or trabalho_quinta\n",
    "mais_saudavel = not tomar_sorvete\n",
    "\n",
    "print(\"Comprar Tv 50 = {} Tv 32 = {} Sorvete = {} saudavel = {}\"\n",
    "      .format(comprar_tv_50, comprar_tv_32, tomar_sorvete, mais_saudavel))\n"
   ]
  },
  {
   "cell_type": "markdown",
   "metadata": {},
   "source": [
    "# Operadores Unários"
   ]
  },
  {
   "cell_type": "code",
   "execution_count": null,
   "metadata": {},
   "outputs": [],
   "source": [
    "a = 3 \n",
    "# a++ Não tem no python\n",
    "a += 1\n",
    "a\n",
    "# a-- não tem no python\n",
    "#++a não utilizar (não funciona)\n",
    "-a #torna negativo\n",
    "+a #torna positivo\n",
    "\n",
    "not 0 #negação\n",
    "not 1\n",
    "not not True "
   ]
  },
  {
   "cell_type": "markdown",
   "metadata": {},
   "source": [
    "# Operadores Ternários"
   ]
  },
  {
   "cell_type": "code",
   "execution_count": null,
   "metadata": {},
   "outputs": [],
   "source": [
    "esta_chovendo = False            #false    True    -- Ao contrário das outras linguagens\n",
    "print('Hoje estou com as roupas ' + ('secas.', 'molhadas')[esta_chovendo])\n",
    "\n",
    "print('Hoje estou com as roupas ' + ('molhadas. ' if esta_chovendo else 'Secas'))"
   ]
  },
  {
   "cell_type": "markdown",
   "metadata": {},
   "source": [
    "# Mais Operadores (Membro/Identidade)"
   ]
  },
  {
   "cell_type": "code",
   "execution_count": null,
   "metadata": {},
   "outputs": [],
   "source": [
    "#Operador de membro\n",
    "lista = [1, 2, 3, 'Ana', 'Calra']\n",
    "print(2 in lista)\n",
    "print('Ana' not in lista)\n",
    "\n",
    "#operador de itentidade\n",
    "x = 3\n",
    "y = x\n",
    "z = 3\n",
    "\n",
    "print(x is y) \n",
    "print(y is z)\n",
    "print(x is not z)\n",
    "\n",
    "numeroInt = 3\n",
    "numeroString = '3'\n",
    "\n",
    "print(numeroInt is numeroString)\n",
    "\n",
    "lista_a = [1, 2, 3]\n",
    "lista_b = lista_a\n",
    "lista_c = [1, 2, 3]\n",
    "\n",
    "print(lista_a is lista_b)\n",
    "print(lista_b is lista_c) #diferente devido o alocamento de espaço da memória ser diferente\n",
    "print(lista_a is not lista_c)"
   ]
  },
  {
   "cell_type": "markdown",
   "metadata": {},
   "source": [
    "# Builtins"
   ]
  },
  {
   "cell_type": "code",
   "execution_count": 13,
   "metadata": {},
   "outputs": [
    {
     "name": "stdout",
     "output_type": "stream",
     "text": [
      "3.3333333333333335\n"
     ]
    },
    {
     "data": {
      "text/plain": [
       "['ArithmeticError',\n",
       " 'AssertionError',\n",
       " 'AttributeError',\n",
       " 'BaseException',\n",
       " 'BlockingIOError',\n",
       " 'BrokenPipeError',\n",
       " 'BufferError',\n",
       " 'BytesWarning',\n",
       " 'ChildProcessError',\n",
       " 'ConnectionAbortedError',\n",
       " 'ConnectionError',\n",
       " 'ConnectionRefusedError',\n",
       " 'ConnectionResetError',\n",
       " 'DeprecationWarning',\n",
       " 'EOFError',\n",
       " 'Ellipsis',\n",
       " 'EnvironmentError',\n",
       " 'Exception',\n",
       " 'False',\n",
       " 'FileExistsError',\n",
       " 'FileNotFoundError',\n",
       " 'FloatingPointError',\n",
       " 'FutureWarning',\n",
       " 'GeneratorExit',\n",
       " 'IOError',\n",
       " 'ImportError',\n",
       " 'ImportWarning',\n",
       " 'IndentationError',\n",
       " 'IndexError',\n",
       " 'InterruptedError',\n",
       " 'IsADirectoryError',\n",
       " 'KeyError',\n",
       " 'KeyboardInterrupt',\n",
       " 'LookupError',\n",
       " 'MemoryError',\n",
       " 'ModuleNotFoundError',\n",
       " 'NameError',\n",
       " 'None',\n",
       " 'NotADirectoryError',\n",
       " 'NotImplemented',\n",
       " 'NotImplementedError',\n",
       " 'OSError',\n",
       " 'OverflowError',\n",
       " 'PendingDeprecationWarning',\n",
       " 'PermissionError',\n",
       " 'ProcessLookupError',\n",
       " 'RecursionError',\n",
       " 'ReferenceError',\n",
       " 'ResourceWarning',\n",
       " 'RuntimeError',\n",
       " 'RuntimeWarning',\n",
       " 'StopAsyncIteration',\n",
       " 'StopIteration',\n",
       " 'SyntaxError',\n",
       " 'SyntaxWarning',\n",
       " 'SystemError',\n",
       " 'SystemExit',\n",
       " 'TabError',\n",
       " 'TimeoutError',\n",
       " 'True',\n",
       " 'TypeError',\n",
       " 'UnboundLocalError',\n",
       " 'UnicodeDecodeError',\n",
       " 'UnicodeEncodeError',\n",
       " 'UnicodeError',\n",
       " 'UnicodeTranslateError',\n",
       " 'UnicodeWarning',\n",
       " 'UserWarning',\n",
       " 'ValueError',\n",
       " 'Warning',\n",
       " 'WindowsError',\n",
       " 'ZeroDivisionError',\n",
       " '__IPYTHON__',\n",
       " '__build_class__',\n",
       " '__debug__',\n",
       " '__doc__',\n",
       " '__import__',\n",
       " '__loader__',\n",
       " '__name__',\n",
       " '__package__',\n",
       " '__spec__',\n",
       " 'abs',\n",
       " 'all',\n",
       " 'any',\n",
       " 'ascii',\n",
       " 'bin',\n",
       " 'bool',\n",
       " 'breakpoint',\n",
       " 'bytearray',\n",
       " 'bytes',\n",
       " 'callable',\n",
       " 'chr',\n",
       " 'classmethod',\n",
       " 'compile',\n",
       " 'complex',\n",
       " 'copyright',\n",
       " 'credits',\n",
       " 'delattr',\n",
       " 'dict',\n",
       " 'dir',\n",
       " 'display',\n",
       " 'divmod',\n",
       " 'enumerate',\n",
       " 'eval',\n",
       " 'exec',\n",
       " 'filter',\n",
       " 'float',\n",
       " 'format',\n",
       " 'frozenset',\n",
       " 'get_ipython',\n",
       " 'getattr',\n",
       " 'globals',\n",
       " 'hasattr',\n",
       " 'hash',\n",
       " 'help',\n",
       " 'hex',\n",
       " 'id',\n",
       " 'input',\n",
       " 'int',\n",
       " 'isinstance',\n",
       " 'issubclass',\n",
       " 'iter',\n",
       " 'len',\n",
       " 'license',\n",
       " 'list',\n",
       " 'locals',\n",
       " 'map',\n",
       " 'max',\n",
       " 'memoryview',\n",
       " 'min',\n",
       " 'next',\n",
       " 'object',\n",
       " 'oct',\n",
       " 'open',\n",
       " 'ord',\n",
       " 'pow',\n",
       " 'print',\n",
       " 'property',\n",
       " 'range',\n",
       " 'repr',\n",
       " 'reversed',\n",
       " 'round',\n",
       " 'set',\n",
       " 'setattr',\n",
       " 'slice',\n",
       " 'sorted',\n",
       " 'staticmethod',\n",
       " 'str',\n",
       " 'sum',\n",
       " 'super',\n",
       " 'tuple',\n",
       " 'type',\n",
       " 'vars',\n",
       " 'zip']"
      ]
     },
     "execution_count": 13,
     "metadata": {},
     "output_type": "execute_result"
    }
   ],
   "source": [
    "type(1)\n",
    "__builtins__.type('Fala Galera')\n",
    "__builtins__.print(10/3)\n",
    "#__builtins__.help(dir)\n",
    "#dir()\n",
    "a = 7 \n",
    "dir(__builtins__)"
   ]
  },
  {
   "cell_type": "markdown",
   "metadata": {},
   "source": [
    "# Conversão de tipos"
   ]
  },
  {
   "cell_type": "code",
   "execution_count": 23,
   "metadata": {},
   "outputs": [
    {
     "name": "stdout",
     "output_type": "stream",
     "text": [
      "<class 'int'>\n",
      "<class 'str'>\n",
      "5\n",
      "23\n",
      "<class 'str'>\n",
      "5.4\n"
     ]
    }
   ],
   "source": [
    "2 + 3 \n",
    "'2' + '3'\n",
    "# 2 + '3'\n",
    "# print(2 + '3')\n",
    "a = 2 \n",
    "b = '3'\n",
    "print(type(a))\n",
    "print(type(b))\n",
    "print(a + int(b))\n",
    "print(str(a) + b)\n",
    "\n",
    "print(type(str(a)))\n",
    "\n",
    "print(2 + float('3.4'))\n"
   ]
  },
  {
   "cell_type": "markdown",
   "metadata": {},
   "source": [
    "# Coerção Automática"
   ]
  },
  {
   "cell_type": "code",
   "execution_count": 39,
   "metadata": {},
   "outputs": [
    {
     "data": {
      "text/plain": [
       "float"
      ]
     },
     "execution_count": 39,
     "metadata": {},
     "output_type": "execute_result"
    }
   ],
   "source": [
    "10 / 2\n",
    "type(10/2)\n",
    "10 / 3 \n",
    "10 // 3 \n",
    "type(10//3.3)\n",
    "10 / 2.5\n",
    "2 + True\n",
    "2 + False\n",
    "type(1 + 2)\n",
    "type(1 + 2.5)\n"
   ]
  },
  {
   "cell_type": "markdown",
   "metadata": {},
   "source": [
    "# Tipos Numéricos"
   ]
  },
  {
   "cell_type": "code",
   "execution_count": 58,
   "metadata": {},
   "outputs": [
    {
     "data": {
      "text/plain": [
       "3.6"
      ]
     },
     "execution_count": 58,
     "metadata": {},
     "output_type": "execute_result"
    }
   ],
   "source": [
    "dir(int)\n",
    "dir(float)\n",
    "\n",
    "a = 5 \n",
    "b = 2.5\n",
    "a / b \n",
    "a + b \n",
    "a * b \n",
    "type(a)\n",
    "type(b)\n",
    "type(a -b)\n",
    "b.is_integer()\n",
    "5.0.is_integer()\n",
    "dir(int)\n",
    "int.__add__(2, 3)\n",
    "2 + 3 \n",
    "(-2).__abs__()\n",
    "abs(-2) #valor absoluto\n",
    "type(-2)\n",
    "(-3.6).__abs__()\n",
    "abs(-3.6)\n"
   ]
  },
  {
   "cell_type": "code",
   "execution_count": 66,
   "metadata": {},
   "outputs": [
    {
     "data": {
      "text/plain": [
       "Decimal('3.300')"
      ]
     },
     "execution_count": 66,
     "metadata": {},
     "output_type": "execute_result"
    }
   ],
   "source": [
    "# 1.1 + 2.2 \n",
    "from decimal import Decimal, getcontext\n",
    "\n",
    "getcontext().prec = 4  # precisão nas casas decimais\n",
    "\n",
    "Decimal(1) / Decimal(7)\n",
    "Decimal.max(Decimal(1), Decimal(7))\n",
    "Decimal(1.1) + Decimal(2.2)\n"
   ]
  },
  {
   "cell_type": "markdown",
   "metadata": {},
   "source": [
    "# TipoString"
   ]
  },
  {
   "cell_type": "code",
   "execution_count": 83,
   "metadata": {},
   "outputs": [
    {
     "name": "stdout",
     "output_type": "stream",
     "text": [
      "Texto com múltipas\n",
      "... linhas\n",
      "Também é possível\n",
      "\t... Com 3 aspas simples\n"
     ]
    }
   ],
   "source": [
    "dir(str)\n",
    "nome = 'Saulo Pedro'\n",
    "nome\n",
    "nome[0] #acessando as letras\n",
    "# nome[0] = 'P'\n",
    "\"Marca d'agua\"\n",
    "\"Marca d'agua\" == 'Marca d\\'agua'\n",
    "texto = 'Texto entre apóstrofos podem ter \"aspas\"'\n",
    "texto\n",
    "\n",
    "doc = \"\"\"Texto com múltipas\n",
    "... linhas\"\"\"\n",
    "print(doc)\n",
    "#\\t = tab\n",
    "doc2 = '''Também é possível\n",
    "\\t... Com 3 aspas simples'''\n",
    "print(doc2)"
   ]
  },
  {
   "cell_type": "code",
   "execution_count": 25,
   "metadata": {},
   "outputs": [
    {
     "data": {
      "text/plain": [
       "'aluaP anA'"
      ]
     },
     "execution_count": 25,
     "metadata": {},
     "output_type": "execute_result"
    }
   ],
   "source": [
    "nome = 'Ana Paula'\n",
    "nome[0]\n",
    "nome[6]\n",
    "nome[-2]\n",
    "nome[4:] #acessar aparitr da 4ª posição\n",
    "nome[-4:]\n",
    "nome[:3] #vai até o 3, mas o 3 não é considerado (do inicio até o 3)\n",
    "nome[:-1]\n",
    "\n",
    "nome[2:5] #começa do dois até o 5 sem entrar o 5\n",
    "\n",
    "numeros = '1234567890'\n",
    "numeros\n",
    "numeros[::] #pega todos\n",
    "numeros[::2] #step de 2 em 2\n",
    "numeros[1::2]\n",
    "numeros[::-1] #inversão da string\n",
    "numeros[::-2] \n",
    "\n",
    "nome[::-1]"
   ]
  },
  {
   "cell_type": "markdown",
   "metadata": {},
   "source": [
    "frase = 'Python é uma linguagem excelente'\n",
    "'py' not in frase\n",
    "'ing' in frase\n",
    "len(frase)\n",
    "frase.lower()\n",
    "frase.upper()\n",
    "frase.split()\n",
    "frase.split('e')"
   ]
  },
  {
   "cell_type": "code",
   "execution_count": 45,
   "metadata": {},
   "outputs": [
    {
     "data": {
      "text/plain": [
       "True"
      ]
     },
     "execution_count": 45,
     "metadata": {},
     "output_type": "execute_result"
    }
   ],
   "source": [
    "a = '123'\n",
    "b = 'de Oliveira 4'\n",
    "a + b \n",
    "a.__add__(b)\n",
    "str.__add__(a, b)\n",
    "len(a)\n",
    "a.__len__()\n",
    "'1' in a\n",
    "a.__contains__('1')\n"
   ]
  },
  {
   "cell_type": "markdown",
   "metadata": {},
   "source": [
    "# Listas"
   ]
  },
  {
   "cell_type": "code",
   "execution_count": 60,
   "metadata": {},
   "outputs": [
    {
     "data": {
      "text/plain": [
       "['Bia', 'Ana', 1]"
      ]
     },
     "execution_count": 60,
     "metadata": {},
     "output_type": "execute_result"
    }
   ],
   "source": [
    "lista = []\n",
    "type(lista)\n",
    "dir(lista)\n",
    "# help(lista)\n",
    "len(lista)\n",
    "lista.append(1) #append, adiciona elementos\n",
    "lista.append(5)\n",
    "lista\n",
    "len(lista)\n",
    "\n",
    "nova_lista = [1, 5, 'Ana', 'Bia']\n",
    "nova_lista\n",
    "nova_lista.remove(5)\n",
    "nova_lista\n",
    "nova_lista.reverse()\n",
    "nova_lista"
   ]
  },
  {
   "cell_type": "code",
   "execution_count": 73,
   "metadata": {},
   "outputs": [
    {
     "data": {
      "text/plain": [
       "1"
      ]
     },
     "execution_count": 73,
     "metadata": {},
     "output_type": "execute_result"
    }
   ],
   "source": [
    "lista = [1, 5, 'Rebeca', 'Guilherme', 3.1415]\n",
    "lista.index('Guilherme')\n",
    "lista[2]\n",
    "1 in lista \n",
    "'Rebeca' in lista\n",
    "'Pedro' not in lista\n",
    "lista[0]\n",
    "lista[4]\n",
    "lista[-1] #pega o ultimo elemento da lista\n",
    "lista[-5]"
   ]
  },
  {
   "cell_type": "code",
   "execution_count": 84,
   "metadata": {},
   "outputs": [
    {
     "data": {
      "text/plain": [
       "['Ana']"
      ]
     },
     "execution_count": 84,
     "metadata": {},
     "output_type": "execute_result"
    }
   ],
   "source": [
    "lista = ['Ana', 'Lia', 'Rui', 'Paulo', 'Dani']\n",
    "lista[1:3] #do um ao 3, mas não entra o 3\n",
    "lista[1:-1]\n",
    "lista[1:] #1 ao fim\n",
    "lista[:-1] #começo até o -1, sem incluir o -1\n",
    "lista[::2] #lista de 2 em 2\n",
    "lista[::-1] #inverte a lista\n",
    "del lista[2] #remove o indice 2\n",
    "lista\n",
    "del lista[1:] #deleta todos apartir do indice 1\n",
    "lista"
   ]
  },
  {
   "cell_type": "markdown",
   "metadata": {},
   "source": [
    "# Tupla"
   ]
  },
  {
   "cell_type": "code",
   "execution_count": 98,
   "metadata": {},
   "outputs": [
    {
     "data": {
      "text/plain": [
       "5"
      ]
     },
     "execution_count": 98,
     "metadata": {},
     "output_type": "execute_result"
    }
   ],
   "source": [
    "#Tupla não pode ser modificada\n",
    "tupla = tuple() #cria uma tupla\n",
    "tupla = () #também cria uma tupla\n",
    "\n",
    "type(tupla)\n",
    "dir(tupla)\n",
    "# help(tupla)\n",
    "tupla = ('um') #tupla criada dessa forma, gera uma string\n",
    "tupla = ('um', )#Caso queira criar uma tupla, colocar uma virgular no último elemento\n",
    "type(tupla)\n",
    "tupla[0]\n",
    "# tupla[0] = 'opa' #não permitido\n",
    "cores = ('verde', 'amarelo', 'azul', 'branco', 'azul')\n",
    "type(cores)\n",
    "cores[0]\n",
    "cores[-1]\n",
    "cores[1:]\n",
    "cores.index('amarelo')\n",
    "cores.count('azul') #conta a quantidade do elemento do parâmetro existe na tupla\n",
    "len(cores)"
   ]
  },
  {
   "cell_type": "markdown",
   "metadata": {},
   "source": [
    "# Dicionários"
   ]
  },
  {
   "cell_type": "code",
   "execution_count": 118,
   "metadata": {},
   "outputs": [
    {
     "data": {
      "text/plain": [
       "[]"
      ]
     },
     "execution_count": 118,
     "metadata": {},
     "output_type": "execute_result"
    }
   ],
   "source": [
    "pessoa = {'nome':'Prof(a) Ana', 'idade': 38 , 'cursos': ['Inglês', 'Português']}\n",
    "type(pessoa)\n",
    "len(pessoa)\n",
    "pessoa\n",
    "pessoa['nome']\n",
    "pessoa['idade']\n",
    "pessoa['cursos']\n",
    "pessoa['cursos'][1]\n",
    "pessoa.keys()\n",
    "pessoa.values()\n",
    "pessoa.items()\n",
    "pessoa.get('idade')\n",
    "pessoa.get('tags', []) #caso não exista a chave 'tags', retorna um array vazio, o valor, você define"
   ]
  },
  {
   "cell_type": "code",
   "execution_count": 125,
   "metadata": {},
   "outputs": [
    {
     "data": {
      "text/plain": [
       "{}"
      ]
     },
     "execution_count": 125,
     "metadata": {},
     "output_type": "execute_result"
    }
   ],
   "source": [
    "pessoa = {'nome':'Prof(a) Alberto', 'idade': 43 , 'cursos': ['React', 'Python']}\n",
    "\n",
    "pessoa['idade'] = 44\n",
    "pessoa['cursos'].append('Angular')\n",
    "pessoa\n",
    "pessoa.pop('idade') #remove a chave e valor do dicionario\n",
    "pessoa\n",
    "pessoa.update({'idade':40, 'sexo':'M'}) #adiciona novos elementos no dicionario\n",
    "pessoa\n",
    "del pessoa['cursos'] #remove a chave e valor \n",
    "pessoa\n",
    "pessoa.clear() #zera o\n",
    "pessoa"
   ]
  },
  {
   "cell_type": "markdown",
   "metadata": {},
   "source": [
    "# Conjuntos"
   ]
  },
  {
   "cell_type": "code",
   "execution_count": 28,
   "metadata": {},
   "outputs": [
    {
     "name": "stdout",
     "output_type": "stream",
     "text": [
      "True True\n"
     ]
    },
    {
     "data": {
      "text/plain": [
       "{1, 3}"
      ]
     },
     "execution_count": 28,
     "metadata": {},
     "output_type": "execute_result"
    }
   ],
   "source": [
    "a = {1, 2, 3}\n",
    "type(a)\n",
    "# a[0] Conjutnos não aceitam índices\n",
    "a = set('codddd3r')\n",
    "a #conjuntos não garantem uma ordem e ignoram dados repetidos\n",
    "print('3' in a, 4 not in a )\n",
    "{1,2,3 } == {3,2,1,3} #vai retornar verdadeira, pq os mesmos elementos estão contidos no conjunto\n",
    "\n",
    "#operaçoes\n",
    "c1 = {1, 2}\n",
    "c2 = {2, 3}\n",
    "\n",
    "c1.union(c2)\n",
    "c1.intersection(c2)\n",
    "c1.update(c2) #altera o conjunto 1 a partir dos elementos de c2 \n",
    "c1\n",
    "c2 <= c1 #<= c2 é subconjunto de c1 ?\n",
    "c1 >= c2  \n",
    "\n",
    "{1, 2, 3 } - {2} #diferença entre conjuntos\n",
    "\n",
    "c1 - c2 #diferença entre os 2\n",
    "c1 -= {2}\n",
    "c1"
   ]
  },
  {
   "cell_type": "markdown",
   "metadata": {},
   "source": [
    "# Interpolação"
   ]
  },
  {
   "cell_type": "code",
   "execution_count": 38,
   "metadata": {},
   "outputs": [
    {
     "name": "stdout",
     "output_type": "stream",
     "text": [
      "Nome: Ana Idade: 30\n",
      "Nome: Ana Idade: 30\n",
      "Nome: Ana Idade: 30\n",
      "Nome: Ana Idade: 30\n"
     ]
    }
   ],
   "source": [
    "from string import Template\n",
    "\n",
    "nome, idade = 'Ana', 30\n",
    "print('Nome: %s Idade: %d' % (nome, idade)) # %s é substituida por uma cadeia de caracteres, %d por nºs inteiros MAIS ANTIGA\n",
    "\n",
    "print('Nome: {0} Idade: {1}'.format(nome, idade)) #utilizar no python < 3.6\n",
    "\n",
    "print(f'Nome: {nome} Idade: {idade}' ) #versão mais atual, obrigatório uso da letra f ... python > 3.6\n",
    "\n",
    "s = Template('Nome: $n Idade: $i')\n",
    "print(s.substitute(n = nome, i = idade))\n",
    "\n",
    "\n"
   ]
  }
 ],
 "metadata": {
  "kernelspec": {
   "display_name": "Python 3",
   "language": "python",
   "name": "python3"
  },
  "language_info": {
   "codemirror_mode": {
    "name": "ipython",
    "version": 3
   },
   "file_extension": ".py",
   "mimetype": "text/x-python",
   "name": "python",
   "nbconvert_exporter": "python",
   "pygments_lexer": "ipython3",
   "version": "3.7.0"
  }
 },
 "nbformat": 4,
 "nbformat_minor": 2
}
